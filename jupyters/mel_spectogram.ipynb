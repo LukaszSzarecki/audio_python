{
 "cells": [
  {
   "cell_type": "markdown",
   "metadata": {},
   "source": [
    "### Signals\n",
    "A signal is a variation in a certain quantity over time.\n",
    "The rate at which we sample the data can vary, but is most commonly 44.1kHz, or 44,100 samples per second.\n",
    "**waveform for the signal**\n",
    "\n"
   ]
  },
  {
   "cell_type": "code",
   "execution_count": 1,
   "metadata": {},
   "outputs": [],
   "source": [
    "import librosa\n",
    "import librosa.display\n",
    "import matplotlib.pyplot as plt"
   ]
  },
  {
   "cell_type": "markdown",
   "metadata": {},
   "source": [
    "digital representation of an audio signal"
   ]
  },
  {
   "cell_type": "code",
   "execution_count": null,
   "metadata": {},
   "outputs": [],
   "source": [
    "y, sample_rate = librosa.load('.')"
   ]
  }
 ],
 "metadata": {
  "interpreter": {
   "hash": "57190cb32f5c13cd18784e2033f7441f80150175c7d1e06808193861cd5b2c3c"
  },
  "kernelspec": {
   "display_name": "Python 3.9.7 ('audio')",
   "language": "python",
   "name": "python3"
  },
  "language_info": {
   "codemirror_mode": {
    "name": "ipython",
    "version": 3
   },
   "file_extension": ".py",
   "mimetype": "text/x-python",
   "name": "python",
   "nbconvert_exporter": "python",
   "pygments_lexer": "ipython3",
   "version": "3.9.7"
  },
  "orig_nbformat": 4
 },
 "nbformat": 4,
 "nbformat_minor": 2
}
